{
 "cells": [
  {
   "cell_type": "markdown",
   "metadata": {},
   "source": [
    "# Balanço de Massa da Geleira  "
   ]
  },
  {
   "cell_type": "markdown",
   "metadata": {},
   "source": [
    "O balanço de massa de uma geleira pode ser considerado como a saúde de uma geleira. O balanço de massa é a soma total de todo o acúmulo (neve, gelo, chuva congelante) e derretimento ou perda de gelo (devido à separação de icebergs, derretimento, sublimação) em toda a geleira.\n",
    "\n",
    "<img src='https://farm5.staticflickr.com/4873/31758563687_e0618db839_b.jpg' width='700'>"
   ]
  },
  {
   "cell_type": "markdown",
   "metadata": {},
   "source": [
    "## O modelo COSIPY"
   ]
  },
  {
   "cell_type": "markdown",
   "metadata": {},
   "source": [
    "[COSIPY](https://cryo-tools.org/tools/cosipy/) é baseado em COSIMA, um 'modelo de equilíbrio de energia e massa de superfície COupled Snowpack e Ice', traduzindo o código para Python e desenvolvendo ainda mais os conceitos iniciais. Ele combina um balanço de energia superficial (SEB) com um modelo de neve e gelo subterrâneo multicamadas para calcular o balanço de massa da geleira (MB).\n",
    "\n",
    "<img src='./img/COSIPY_an.png' width='700'>"
   ]
  }
 ],
 "metadata": {
  "kernelspec": {
   "display_name": "Python 3.8.10 64-bit",
   "language": "python",
   "name": "python3"
  },
  "language_info": {
   "codemirror_mode": {
    "name": "ipython",
    "version": 3
   },
   "file_extension": ".py",
   "mimetype": "text/x-python",
   "name": "python",
   "nbconvert_exporter": "python",
   "pygments_lexer": "ipython3",
   "version": "3.9.13"
  },
  "orig_nbformat": 4,
  "vscode": {
   "interpreter": {
    "hash": "916dbcbb3f70747c44a77c7bcd40155683ae19c65e1c03b4aa3499c5328201f1"
   }
  }
 },
 "nbformat": 4,
 "nbformat_minor": 2
}
