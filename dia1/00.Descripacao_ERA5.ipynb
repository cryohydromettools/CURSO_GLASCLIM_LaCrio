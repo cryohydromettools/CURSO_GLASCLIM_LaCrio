{
 "cells": [
  {
   "cell_type": "markdown",
   "metadata": {},
   "source": [
    "# Dados de Reanálise"
   ]
  },
  {
   "cell_type": "markdown",
   "metadata": {},
   "source": [
    "Os dados de reanálise fornecem o quadro mais completo do tempo e do clima do passado possível atualmente.\n",
    "\n",
    "Eles são uma combinação de observações com previsões meteorológicas passadas de curto prazo que são repetidas com modelos modernos de previsão meteorológica. Eles são globalmente completos e consistentes ao longo do tempo.\n",
    "\n",
    "Várias fontes de dados de reanálise estão disponíveis (por exemplo, NCEP/NCAR, ERA5, ERA5-Land, etc.). Um resumo dos dados de reanálise disponíveis pode ser encontrado [aqui](https://climatedataguide.ucar.edu/climate-data/atmospheric-reanalysis-overview-comparison-tables). \n",
    "\n",
    "**Como esses dados são gerados?**\n",
    "\n",
    "A reanálise combina previsões meteorológicas passadas de curto prazo com observações por meio da assimilação de dados. O processo imita a produção de previsões meteorológicas diárias, que usam uma análise do estado atual do sistema terrestre como ponto de partida. A análise é uma combinação de observações fisicamente consistentes com uma previsão de curto prazo baseada na análise anterior.\n",
    "\n",
    "<img src='./img/era5_reanalisis.jpg' width='700'>"
   ]
  },
  {
   "cell_type": "markdown",
   "metadata": {},
   "source": [
    "## Reanálise **ERA5**"
   ]
  },
  {
   "cell_type": "markdown",
   "metadata": {},
   "source": [
    "A ERA5 é a quinta maior reanálise atmosférica produzida pelo ECMWF, depois das reanálises FGGE, ERA-15, ERA-40 e ERA-Interim. O conjunto de dados ERA5 fornece dados horários sobre parâmetros de superfície e altitude com uma resolução global de aproximadamente 31 km em 137 níveis até 1 Pa. Ele também inclui os 10 membros do sistema de assimilação de dados 4D-Var usado para produzir a reanálise, com resolução reduzida (3 horas, 63 km). \n",
    "\n",
    "Atualmente, o ERA5 está disponível desde 1940, disponível em [Climate Data Store](https://cds.climate.copernicus.eu/cdsapp#!/home). A ERA5 substitui a reanálise ERA-Interim.\n",
    "\n",
    "<img src='./img/er5_reanalisis_data.jpg' width='500'>"
   ]
  },
  {
   "cell_type": "markdown",
   "metadata": {},
   "source": [
    "## Vantagens do **ERA5**"
   ]
  },
  {
   "cell_type": "markdown",
   "metadata": {},
   "source": [
    "* Maior resolução temporal e espacial. Isso fica evidente na representação de eventos climáticos extremos, como furacões.\n",
    "\n",
    "* Disponível a partir de 1940, com atualizações diárias quase em tempo real.\n",
    "\n",
    "* Uma melhor representação da circulação troposférica durante o período de observação moderno a partir de 1979, conforme indicado pela evolução da capacidade de previsão na Figura 2 de [Bell et al., (2021)](https://doi.org/10.1002/qj.4174)."
   ]
  },
  {
   "cell_type": "markdown",
   "metadata": {},
   "source": [
    "Representação do furacão Florence (setembro de 2018) no ERA5 (esquerda) e no ERA-Interim (direita).\n",
    "<img src='./img/Dee-F1.png' width='800'>"
   ]
  },
  {
   "cell_type": "markdown",
   "metadata": {},
   "source": [
    "Intervalo (dias) em que as correlações de anomalia média de 365 dias das previsões de altura de 500 hPa às 0000 e 1200 UTC de 1950 a 2020 atingem 95% (verde), 80% (laranja) e 60% (azul) para (a) Europa, (b) Leste Asiático, (c) América do Norte e (d) Austrália/Nova Zelândia. Também é mostrada (tracejada) a capacidade média das previsões operacionais do ECMWF para 1981. As linhas grossas indicam o ERA5; as linhas finas indicam o ERA-Interim. O sombreamento indica a diferença entre o ERA5 e o ERA-Interim durante o período para o qual ambos estão disponíveis (1979-2019) (Adaptado de Bell et al (2021); contribuição de H. Hersbach).\n",
    "\n",
    "\n",
    "<img src='./img/scores_era5_eraint_ext.png' width='650'>"
   ]
  },
  {
   "cell_type": "markdown",
   "metadata": {},
   "source": [
    "## Limitações do **ERA5**"
   ]
  },
  {
   "cell_type": "markdown",
   "metadata": {},
   "source": [
    "* Tendências e variabilidade não físicas podem aparecer no registro devido a mudanças no sistema de observação; esse é um problema principalmente na estratosfera superior e na mesosfera.\n",
    "\n",
    "* Diversas variáveis, por exemplo, ventos próximos à superfície, mostram (pequenos) saltos sistemáticos às 10 UTC e 22 UTC devido ao design das janelas de assimilação de 12 horas das quais a evolução temporal do produto horário é amostrada.\n",
    "\n",
    "* Alguns problemas com a temperatura da superfície do mar (TSM) e a cobertura de gelo marinho, como a presença de rastros de navios na SST antes de 2007, inconsistências sobre os Grandes Lagos e o Mar Cáspio entre 2007 e 2014, falta de cobertura de gelo marinho ao norte da Groenlândia entre 1979 e 1989.\n",
    "\n",
    "* Viés quente de cerca de 5K na temperatura da superfície do gelo marinho do Ártico durante o inverno.\n",
    "\n",
    "* Sua resolução espacial dificulta a representação da topografia real em regiões montanhosas, como os Andes. Isso limita a aplicação desses dados diretamente para estudos em nível de sub-bacia ou micro-bacia sem redimensionamento prévio."
   ]
  },
  {
   "cell_type": "markdown",
   "metadata": {},
   "source": [
    "Mapas de elevação da superfície com resoluções de grade de (a) reanálise ERA5, (b) Análise Retrospectiva da Era Moderna para Pesquisa e Aplicações, (c) reanálise do Sistema de Previsão Climática, (d) reanálise europeia provisória, (e) reanálise japonesa de 55 anos e (f) reanálise NCEP/NCAR versão 1. As elevações em grade são mostradas para cada local (consulte a Figura 1 para obter os nomes dos locais), seguidas pela diferença de elevação entre o observado e o em grade (mostrada entre parênteses). Obtido de [Birkel et al. (2022)](https://doi.org/10.1029/2021EA001934).\n",
    "\n",
    "<img src='./img/Screenshot at 2024-07-05 10-01-47.png' width='800'>"
   ]
  },
  {
   "cell_type": "markdown",
   "metadata": {},
   "source": [
    "## Comparação do ERA5 com observações globais"
   ]
  },
  {
   "cell_type": "markdown",
   "metadata": {},
   "source": [
    "**Temperatura da superfície**"
   ]
  },
  {
   "cell_type": "markdown",
   "metadata": {},
   "source": [
    "Correlação entre a estação meteorológica de várias cidades ou países e a temperatura média diária do ERA5-Land (°C) nos 612 locais usados no estudo. Obtido de [Mistry et al. (2022)](https://doi.org/10.1038/s41598-022-09049-4)\n",
    "\n",
    "\n",
    "<img src='./img/41598_2022_9049_Fig2_HTML.webp' width='800'>"
   ]
  },
  {
   "cell_type": "markdown",
   "metadata": {},
   "source": [
    "**Precipitação**"
   ]
  },
  {
   "cell_type": "markdown",
   "metadata": {},
   "source": [
    "A média do ERA5 menos as diferenças de precipitação observadas, ou desvios (mm-dia-1), nas 5.637 estações em (a) janeiro, (b) abril, (c) julho e (d) outubro para 2001-2020. A tendência média entre as 5.637 estações é mostrada no título de cada painel. Obtido de [Lavers et al. (2022)](https://doi.org/10.1002/qj.4351).\n",
    "\n",
    "\n",
    "<img src='./img/Screenshot at 2024-07-05 10-12-30.png' width='800'>"
   ]
  },
  {
   "cell_type": "markdown",
   "metadata": {},
   "source": [
    "## Comparación ERA5 con observaciones para los Andes"
   ]
  },
  {
   "cell_type": "markdown",
   "metadata": {},
   "source": [
    "**Diferentes reanálises de temperatura e precipitação**"
   ]
  },
  {
   "cell_type": "markdown",
   "metadata": {},
   "source": [
    "Mapas climatológicos anuais de 1981 a 2010 para (a) temperatura de 2 m e (b) precipitação para cada reanálise. Obtido de [Birkel et al. (2022)](https://doi.org/10.1029/2021EA001934).\n",
    "\n",
    "<img src='./img/Screenshot at 2024-07-05 10-29-43.png' width='800'>"
   ]
  },
  {
   "cell_type": "markdown",
   "metadata": {},
   "source": [
    "Temperatura mensal de 2 m (a - d) e precipitação (e - h) de cada reanálise para as células de grade mais próximas de Quelccaya, Cusco, Chacaltaya e La Quiaca para o período de 2014-2019. A linha preta grossa representa as observações da estação meteorológica. As temperaturas da reanálise são ajustadas para levar em conta a grade versus a elevação do local medido usando uma taxa de decaimento adiabático de 4,4 °C/km. Obtido de [Birkel et al. (2022)](https://doi.org/10.1029/2021EA001934).\n",
    "\n",
    "<img src='./img/ess21113-fig-0007-m.jpg' width='800'>"
   ]
  },
  {
   "cell_type": "markdown",
   "metadata": {},
   "source": [
    "**Comparação ERA5-Land para os Andes peruanos**"
   ]
  },
  {
   "cell_type": "markdown",
   "metadata": {},
   "source": [
    "O ERA5-Land fornece informações horárias de alta resolução sobre as variáveis de superfície. Os dados são uma repetição do componente terrestre da reanálise climática ERA5 com uma resolução espacial mais fina: espaçamento de grade de aproximadamente 9 km. O ERA5-Land inclui informações sobre incertezas para todas as variáveis em resoluções espaciais e temporais reduzidas."
   ]
  },
  {
   "cell_type": "markdown",
   "metadata": {},
   "source": [
    "Dados de umidade do solo terrestre do ERA5-Land. O gráfico mostra a umidade média do solo para maio de 2018 do ERA5-Land.\n",
    "\n",
    "<img src='./img/era5_t2m_201601.png' width='800'>"
   ]
  },
  {
   "cell_type": "markdown",
   "metadata": {},
   "source": [
    "Mapas das quatro áreas de estudo (Artesonraju - CB, Chuecon - CC, Cavalca - CV e Quelccay - CO) com a localização do AWScomp (pontos azuis) e as geleiras analisadas (pontos amarelos). A grade ERA5L é sobreposta (grade cinza) com as grades selecionadas destacadas (grade azul). As altitudes acima de 3.000 metros acima do nível do mar (cinza escuro) e as geleiras (pontos vermelhos) do Inventário Nacional de Geleiras (INAIGEM 2018) estão destacadas. Obtido de [Bonshoms et al. (2022)](https://doi.org/10.1007/s11629-022-7388-4).\n",
    "\n",
    "<img src='./img/Screenshot at 2024-07-05 11-59-27.png' width='800'>"
   ]
  },
  {
   "cell_type": "markdown",
   "metadata": {},
   "source": [
    "**Temperatura da superfície**"
   ]
  },
  {
   "cell_type": "markdown",
   "metadata": {},
   "source": [
    "Comparação entre a umidade relativa média mensal a 2 m do ERA5L (linha vermelha) e AWSmain (linha preta) na Cordillera Blanca (CB), Cordillera Central (CC), Cordillera Vilcanota (CV) e Coropuna (CO) de 2017 a 2019. Valores médios mensais (coluna A) e vieses mensais positivos (pontos vermelhos) e negativos (pontos azuis) do ERA5L (coluna B). Obtido de [Bonshoms et al. (2022)](https://doi.org/10.1007/s11629-022-7388-4).\n",
    "\n",
    "<img src='./img/Screenshot at 2024-07-05 12-02-44.png' width='800'>"
   ]
  },
  {
   "cell_type": "markdown",
   "metadata": {},
   "source": [
    "**Umidade relativa**"
   ]
  },
  {
   "cell_type": "markdown",
   "metadata": {},
   "source": [
    "Mapas das quatro áreas de estudo (Artesonraju - CB, Chuecon - CC, Cavalca - CV e Quelccay - CO) com a localização do AWScomp (pontos azuis) e as geleiras analisadas (pontos amarelos). A grade ERA5L é sobreposta (grade cinza) com as grades selecionadas destacadas (grade azul). As altitudes acima de 3.000 metros acima do nível do mar (cinza escuro) e as geleiras (pontos vermelhos) do Inventário Nacional de Geleiras (INAIGEM 2018) estão destacadas. Obtido de [Bonshoms et al. (2022)](https://doi.org/10.1007/s11629-022-7388-4).\n",
    "\n",
    "\n",
    "<img src='./img/Screenshot at 2024-07-05 12-03-19.png' width='800'>"
   ]
  }
 ],
 "metadata": {
  "kernelspec": {
   "display_name": "Python 3.8.10 64-bit",
   "language": "python",
   "name": "python3"
  },
  "language_info": {
   "codemirror_mode": {
    "name": "ipython",
    "version": 3
   },
   "file_extension": ".py",
   "mimetype": "text/x-python",
   "name": "python",
   "nbconvert_exporter": "python",
   "pygments_lexer": "ipython3",
   "version": "3.9.13"
  },
  "orig_nbformat": 4,
  "vscode": {
   "interpreter": {
    "hash": "916dbcbb3f70747c44a77c7bcd40155683ae19c65e1c03b4aa3499c5328201f1"
   }
  }
 },
 "nbformat": 4,
 "nbformat_minor": 2
}
