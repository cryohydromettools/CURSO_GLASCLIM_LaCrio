{
 "cells": [
  {
   "cell_type": "markdown",
   "metadata": {},
   "source": [
    "## Registre-se no CDS\n",
    "\n",
    "Se ainda não estiver registrado no CDS, faça login [aqui] (https://cds.climate.copernicus.eu/cdsapp#!/home) para se registrar. Es importante hacer este paso para descargar datos desde CDS!!!"
   ]
  },
  {
   "cell_type": "markdown",
   "metadata": {},
   "source": [
    "## Faça o download do ERA5 por meio da API do CDS"
   ]
  },
  {
   "cell_type": "markdown",
   "metadata": {},
   "source": [
    "### Instalar `cdsapi`\n",
    "\n",
    "Se você ainda não tiver o módulo `cdsapi` instalado, instale-o usando o seguinte comando no prompt do **anaconda**:\n",
    "\n",
    "``` python\n",
    "\n",
    "conda install -c conda-forge cdsapi \n",
    "\n",
    "```\n",
    "Em seguida, configure seu computador com seu nome de usuário e senha fornecidos pelo **CDS**.\n",
    "> Você precisará criar um arquivo **.cdsapirc** em sua casa e copiar seu nome de usuário e senha. Siga as etapas [aqui](https://cds.climate.copernicus.eu/api-how-to) para fazer isso."
   ]
  },
  {
   "cell_type": "code",
   "execution_count": 1,
   "metadata": {},
   "outputs": [
    {
     "name": "stdout",
     "output_type": "stream",
     "text": [
      "/home/christian/Documents/CURSO_GLASCLIM_LaCrio/dia1\n"
     ]
    }
   ],
   "source": [
    "!pwd"
   ]
  },
  {
   "cell_type": "markdown",
   "metadata": {},
   "source": [
    "### Importar o módulo cdsapi"
   ]
  },
  {
   "cell_type": "code",
   "execution_count": 4,
   "metadata": {},
   "outputs": [
    {
     "name": "stderr",
     "output_type": "stream",
     "text": [
      "2024-07-15 16:09:41,225 INFO Welcome to the CDS\n",
      "2024-07-15 16:09:41,232 INFO Sending request to https://cds.climate.copernicus.eu/api/v2/resources/reanalysis-era5-single-levels\n",
      "2024-07-15 16:09:41,558 INFO Request is completed\n",
      "2024-07-15 16:09:41,562 INFO Downloading https://download-0010-clone.copernicus-climate.eu/cache-compute-0010/cache/data9/adaptor.mars.internal-1721070570.2367296-31146-3-f7c27861-d169-4d73-a62f-a79cda90b3d8.nc to ../data/ERA5_PA_20200601.nc (478.5K)\n",
      "2024-07-15 16:09:43,107 INFO Download rate 310.8K/s\n"
     ]
    },
    {
     "data": {
      "text/plain": [
       "Result(content_length=490020,content_type=application/x-netcdf,location=https://download-0010-clone.copernicus-climate.eu/cache-compute-0010/cache/data9/adaptor.mars.internal-1721070570.2367296-31146-3-f7c27861-d169-4d73-a62f-a79cda90b3d8.nc)"
      ]
     },
     "execution_count": 4,
     "metadata": {},
     "output_type": "execute_result"
    }
   ],
   "source": [
    "import cdsapi\n",
    "\n",
    "c = cdsapi.Client()\n",
    "\n",
    "c.retrieve(\n",
    "    'reanalysis-era5-single-levels',\n",
    "    {\n",
    "        'product_type': 'reanalysis',\n",
    "        'variable': ['10m_u_component_of_wind', '10m_v_component_of_wind', \n",
    "                     '2m_temperature'],\n",
    "        'year': '2020',\n",
    "        'month': '06',\n",
    "        'day': '01',\n",
    "        'time': ['00:00', '06:00', '12:00', '18:00',],\n",
    "        'area': [-50, -85, -75, -35,], # lat max, lon min, lat min, lon max#\n",
    "        'format': 'netcdf',\n",
    "    },    \n",
    "    '../data/ERA5_PA_20200601.nc')"
   ]
  },
  {
   "cell_type": "code",
   "execution_count": null,
   "metadata": {},
   "outputs": [],
   "source": [
    "import numpy as np"
   ]
  },
  {
   "cell_type": "code",
   "execution_count": null,
   "metadata": {},
   "outputs": [],
   "source": [
    "years = np.arange(1960, 2021, 1)"
   ]
  },
  {
   "cell_type": "code",
   "execution_count": null,
   "metadata": {},
   "outputs": [],
   "source": [
    "#for i in years:\n",
    "#    c.retrieve(\n",
    "#        'reanalysis-era5-single-levels-monthly-means',\n",
    "#        {\n",
    "#            'format': 'netcdf',\n",
    "#            'product_type': 'monthly_averaged_reanalysis',\n",
    "#            'variable': ['geopotential', '10m_u_component_of_wind', '10m_v_component_of_wind',\n",
    "#            '2m_temperature', 'total_precipitation',\n",
    "#            ],\n",
    "#            'year': str(i),\n",
    "#            'month': [\n",
    "#                '01', '02', '03',\n",
    "#                '04', '05', '06',\n",
    "#                '07', '08', '09',\n",
    "#                '10', '11', '12',\n",
    "#            ],\n",
    "#            'time': '00:00',\n",
    "#            'area': [ 2, -85, -20, -65,],\n",
    "#        },\n",
    "#        f'../../data/era5_{str(i)}.nc')"
   ]
  }
 ],
 "metadata": {
  "kernelspec": {
   "display_name": "Python 3",
   "language": "python",
   "name": "python3"
  },
  "language_info": {
   "codemirror_mode": {
    "name": "ipython",
    "version": 3
   },
   "file_extension": ".py",
   "mimetype": "text/x-python",
   "name": "python",
   "nbconvert_exporter": "python",
   "pygments_lexer": "ipython3",
   "version": "3.8.10"
  },
  "orig_nbformat": 4
 },
 "nbformat": 4,
 "nbformat_minor": 2
}
