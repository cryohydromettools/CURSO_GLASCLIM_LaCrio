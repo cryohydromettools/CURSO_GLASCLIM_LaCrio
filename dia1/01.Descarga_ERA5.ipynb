{
 "cells": [
  {
   "cell_type": "markdown",
   "metadata": {},
   "source": [
    "## Registre-se no CDS\n",
    "\n",
    "Se ainda não estiver registrado no CDS, faça login [aqui] (https://cds.climate.copernicus.eu/cdsapp#!/home) para se registrar. Es importante hacer este paso para descargar datos desde CDS!!!"
   ]
  },
  {
   "cell_type": "markdown",
   "metadata": {},
   "source": [
    "## Faça o download do ERA5 por meio da API do CDS"
   ]
  },
  {
   "cell_type": "markdown",
   "metadata": {},
   "source": [
    "### Instalar `cdsapi`\n",
    "\n",
    "Se você ainda não tiver o módulo `cdsapi` instalado, instale-o usando o seguinte comando no prompt do **anaconda**:\n",
    "\n",
    "``` python\n",
    "\n",
    "conda install -c conda-forge cdsapi \n",
    "\n",
    "```\n",
    "Em seguida, configure seu computador com seu nome de usuário e senha fornecidos pelo **CDS**.\n",
    "> Você precisará criar um arquivo **.cdsapirc** em sua casa e copiar seu nome de usuário e senha. Siga as etapas [aqui](https://cds.climate.copernicus.eu/api-how-to) para fazer isso."
   ]
  },
  {
   "cell_type": "code",
   "execution_count": 1,
   "metadata": {},
   "outputs": [
    {
     "name": "stdout",
     "output_type": "stream",
     "text": [
      "/home/christian/Documents/CURSO_GLASCLIM_LaCrio/dia1\n"
     ]
    }
   ],
   "source": [
    "!pwd"
   ]
  },
  {
   "cell_type": "markdown",
   "metadata": {},
   "source": [
    "### Importar o módulo cdsapi"
   ]
  },
  {
   "cell_type": "code",
   "execution_count": 1,
   "metadata": {},
   "outputs": [],
   "source": [
    "import cdsapi"
   ]
  },
  {
   "cell_type": "code",
   "execution_count": 3,
   "metadata": {},
   "outputs": [
    {
     "name": "stderr",
     "output_type": "stream",
     "text": [
      "2024-07-16 15:12:54,830 INFO Welcome to the CDS\n",
      "2024-07-16 15:12:54,831 INFO Sending request to https://cds.climate.copernicus.eu/api/v2/resources/reanalysis-era5-single-levels\n",
      "2024-07-16 15:12:57,083 INFO Request is queued\n",
      "2024-07-16 15:12:58,413 INFO Request is running\n",
      "2024-07-16 15:13:05,177 INFO Request is completed\n",
      "2024-07-16 15:13:05,179 INFO Downloading https://download-0002-clone.copernicus-climate.eu/cache-compute-0002/cache/data6/adaptor.mars.internal-1721153579.8300238-17219-2-97765018-350c-442b-a505-6aca459adf0c.nc to ../data/ERA5_PA_20200601.nc (637.4K)\n",
      "2024-07-16 15:16:03,407 ERROR Download interupted: HTTPSConnectionPool(host='download-0002-clone.copernicus-climate.eu', port=443): Read timed out.\n",
      "2024-07-16 15:16:03,409 ERROR Download incomplete, downloaded 74752 byte(s) out of 652708\n",
      "2024-07-16 15:16:03,410 WARNING Sleeping 10 seconds\n",
      "2024-07-16 15:16:13,421 WARNING Resuming download at byte 74752\n",
      "2024-07-16 15:16:17,411 INFO Download rate 3.3K/s \n"
     ]
    },
    {
     "data": {
      "text/plain": [
       "Result(content_length=652708,content_type=application/x-netcdf,location=https://download-0002-clone.copernicus-climate.eu/cache-compute-0002/cache/data6/adaptor.mars.internal-1721153579.8300238-17219-2-97765018-350c-442b-a505-6aca459adf0c.nc)"
      ]
     },
     "execution_count": 3,
     "metadata": {},
     "output_type": "execute_result"
    }
   ],
   "source": [
    "\n",
    "c = cdsapi.Client()\n",
    "\n",
    "c.retrieve(\n",
    "    'reanalysis-era5-single-levels',\n",
    "    {\n",
    "        'product_type': 'reanalysis',\n",
    "        'variable': ['10m_u_component_of_wind', '10m_v_component_of_wind', \n",
    "                     '2m_temperature', 'geopotential'],\n",
    "        'year': '2020',\n",
    "        'month': '06',\n",
    "        'day': '01',\n",
    "        'time': ['00:00', '06:00', '12:00', '18:00',],\n",
    "        'area': [-50, -85, -75, -35,], # lat max, lon min, lat min, lon max#\n",
    "        'format': 'netcdf',\n",
    "    },    \n",
    "    '../data/ERA5_PA_20200601.nc')"
   ]
  },
  {
   "cell_type": "code",
   "execution_count": 2,
   "metadata": {},
   "outputs": [
    {
     "name": "stderr",
     "output_type": "stream",
     "text": [
      "2024-07-16 10:11:04,208 INFO Welcome to the CDS\n",
      "2024-07-16 10:11:04,216 INFO Sending request to https://cds.climate.copernicus.eu/api/v2/resources/reanalysis-era5-single-levels-monthly-means\n",
      "2024-07-16 10:11:04,597 INFO Request is queued\n",
      "2024-07-16 10:11:06,029 INFO Request is running\n",
      "2024-07-16 10:25:34,776 INFO Request is completed\n",
      "2024-07-16 10:25:34,782 INFO Downloading https://download-0017.copernicus-climate.eu/cache-compute-0017/cache/data3/adaptor.mars.internal-1721136265.8405845-17179-16-daf8dddd-f38b-475e-8954-c8dbd00a6ea3.nc to ../data/ERA5_PA_1980-2023.nc (20.3M)\n",
      "2024-07-16 10:25:55,910 INFO Download rate 981.9K/s \n"
     ]
    },
    {
     "data": {
      "text/plain": [
       "Result(content_length=21239220,content_type=application/x-netcdf,location=https://download-0017.copernicus-climate.eu/cache-compute-0017/cache/data3/adaptor.mars.internal-1721136265.8405845-17179-16-daf8dddd-f38b-475e-8954-c8dbd00a6ea3.nc)"
      ]
     },
     "execution_count": 2,
     "metadata": {},
     "output_type": "execute_result"
    }
   ],
   "source": [
    "#c = cdsapi.Client()\n",
    "#\n",
    "#c.retrieve(\n",
    "#    'reanalysis-era5-single-levels-monthly-means',\n",
    "#    {\n",
    "#        'product_type': 'monthly_averaged_reanalysis',\n",
    "#        'variable': ['2m_temperature'],\n",
    "#            'year': [1980, 1981, 1982, 1983, 1984, 1985, 1986, 1987, 1988, 1989,\n",
    "#                     1990, 1991, 1992, 1993, 1994, 1995, 1996, 1997, 1998, 1999,\n",
    "#                     2000, 2001, 2002, 2003, 2004, 2005, 2006, 2007, 2008, 2009,\n",
    "#                     2010, 2011, 2012, 2013, 2014, 2015, 2016, 2017, 2018, 2019,\n",
    "#                     2020, 2021, 2022, 2023],\n",
    "#            'month': [\n",
    "#                '01', '02', '03',\n",
    "#                '04', '05', '06',\n",
    "#                '07', '08', '09',\n",
    "#                '10', '11', '12',\n",
    "#            ],\n",
    "#            'time': '00:00',\n",
    "#        'area': [-50, -85, -75, -35,], # lat max, lon min, lat min, lon max#\n",
    "#        'format': 'netcdf',\n",
    "#    },    \n",
    "#    '../data/ERA5_PA_1980-2023.nc')"
   ]
  },
  {
   "cell_type": "code",
   "execution_count": null,
   "metadata": {},
   "outputs": [],
   "source": [
    "import numpy as np"
   ]
  },
  {
   "cell_type": "code",
   "execution_count": null,
   "metadata": {},
   "outputs": [],
   "source": [
    "years = np.arange(1960, 2021, 1)"
   ]
  },
  {
   "cell_type": "code",
   "execution_count": null,
   "metadata": {},
   "outputs": [],
   "source": [
    "#for i in years:\n",
    "#    c.retrieve(\n",
    "#        'reanalysis-era5-single-levels-monthly-means',\n",
    "#        {\n",
    "#            'format': 'netcdf',\n",
    "#            'product_type': 'monthly_averaged_reanalysis',\n",
    "#            'variable': ['geopotential', '10m_u_component_of_wind', '10m_v_component_of_wind',\n",
    "#            '2m_temperature', 'total_precipitation',\n",
    "#            ],\n",
    "#            'year': str(i),\n",
    "#            'month': [\n",
    "#                '01', '02', '03',\n",
    "#                '04', '05', '06',\n",
    "#                '07', '08', '09',\n",
    "#                '10', '11', '12',\n",
    "#            ],\n",
    "#            'time': '00:00',\n",
    "#            'area': [ 2, -85, -20, -65,],\n",
    "#        },\n",
    "#        f'../../data/era5_{str(i)}.nc')"
   ]
  }
 ],
 "metadata": {
  "kernelspec": {
   "display_name": "Python 3",
   "language": "python",
   "name": "python3"
  },
  "language_info": {
   "codemirror_mode": {
    "name": "ipython",
    "version": 3
   },
   "file_extension": ".py",
   "mimetype": "text/x-python",
   "name": "python",
   "nbconvert_exporter": "python",
   "pygments_lexer": "ipython3",
   "version": "3.8.10"
  },
  "orig_nbformat": 4
 },
 "nbformat": 4,
 "nbformat_minor": 2
}
